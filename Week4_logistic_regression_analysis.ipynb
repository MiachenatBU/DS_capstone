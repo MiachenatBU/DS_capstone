{
    "cells": [
        {
            "cell_type": "markdown",
            "metadata": {},
            "source": [
                "\n",
                "# Logistic Regression Analysis for Predicting Coronary Heart Disease (CHD)\n",
                "    "
            ]
        },
        {
            "cell_type": "markdown",
            "metadata": {},
            "source": [
                "\n",
                "This notebook demonstrates how to use logistic regression to predict the likelihood of a person having Coronary Heart Disease (CHD). We will explore the effects of feature scaling (Standardization and Normalization) on the model's performance.\n",
                "    "
            ]
        },
        {
            "cell_type": "markdown",
            "metadata": {},
            "source": [
                "\n",
                "## 1. Data Loading and Preparation\n",
                "We'll load the data, select our features and target variable, and prepare the data for modeling. Our target variable is `CHDDXY1`, and we will use `AGEY1X`, `ADSEX4`, `PRVEVY1`, and `total_comorbidities` as predictors. We will also handle missing values and binarize our target variable.\n",
                "    "
            ]
        },
        {
            "cell_type": "code",
            "execution_count": 1,
            "metadata": {},
            "outputs": [
                {
                    "name": "stdout",
                    "output_type": "stream",
                    "text": [
                        "Cleaned DataFrame for Logistic Regression:\n",
                        "<class 'pandas.core.frame.DataFrame'>\n",
                        "Index: 3489 entries, 2 to 6740\n",
                        "Data columns (total 5 columns):\n",
                        " #   Column               Non-Null Count  Dtype  \n",
                        "---  ------               --------------  -----  \n",
                        " 0   AGEY1X               3489 non-null   float64\n",
                        " 1   ADSEX4               3489 non-null   float64\n",
                        " 2   PRVEVY1              3489 non-null   float64\n",
                        " 3   total_comorbidities  3489 non-null   int64  \n",
                        " 4   CHD_Diagnosis        3489 non-null   int64  \n",
                        "dtypes: float64(3), int64(2)\n",
                        "memory usage: 163.5 KB\n",
                        "None\n",
                        "\n",
                        "Target variable distribution:\n",
                        "CHD_Diagnosis\n",
                        "0    3243\n",
                        "1     246\n",
                        "Name: count, dtype: int64\n",
                        "\n",
                        "DataFrame Head:\n",
                        "    AGEY1X  ADSEX4  PRVEVY1  total_comorbidities  CHD_Diagnosis\n",
                        "2     62.0     1.0      1.0                    1              0\n",
                        "3     67.0     1.0      2.0                    1              0\n",
                        "5     79.0     2.0      2.0                    0              0\n",
                        "9     70.0     1.0      1.0                    0              0\n",
                        "11    71.0     2.0      1.0                    2              0\n"
                    ]
                }
            ],
            "source": [
                "\n",
                "import pandas as pd\n",
                "from sklearn.model_selection import train_test_split\n",
                "from sklearn.preprocessing import StandardScaler, MinMaxScaler\n",
                "from sklearn.linear_model import LogisticRegression\n",
                "from sklearn.metrics import accuracy_score, classification_report, confusion_matrix\n",
                "    \n",
                "# Load the dataset\n",
                "df = pd.read_csv('CVD_data2.csv')\n",
                "    \n",
                "# Select relevant columns and drop rows with missing values in these columns\n",
                "log_reg_vars = ['CHDDXY1', 'AGEY1X', 'ADSEX4', 'PRVEVY1', 'total_comorbidities']\n",
                "df_log_reg = df[log_reg_vars].dropna()\n",
                "    \n",
                "# Binarize the target variable 'CHDDXY1'\n",
                "df_log_reg['CHD_Diagnosis'] = df_log_reg['CHDDXY1'].apply(lambda x: 1 if x == 1 else 0)\n",
                "df_log_reg = df_log_reg.drop('CHDDXY1', axis=1)\n",
                "    \n",
                "print(\"Cleaned DataFrame for Logistic Regression:\")\n",
                "print(df_log_reg.info())\n",
                "print(\"\\nTarget variable distribution:\")\n",
                "print(df_log_reg['CHD_Diagnosis'].value_counts())\n",
                "print(\"\\nDataFrame Head:\")\n",
                "print(df_log_reg.head())\n",
                "    "
            ]
        },
        {
            "cell_type": "markdown",
            "metadata": {},
            "source": [
                "\n",
                "## 2. Feature Scaling\n",
                "We will apply two common feature scaling techniques: Standardization and Normalization.\n",
                "    "
            ]
        },
        {
            "cell_type": "code",
            "execution_count": 2,
            "metadata": {},
            "outputs": [],
            "source": [
                "\n",
                "# Define predictors and target\n",
                "X = df_log_reg[['AGEY1X', 'ADSEX4', 'PRVEVY1', 'total_comorbidities']]\n",
                "y = df_log_reg['CHD_Diagnosis']\n",
                "    \n",
                "# Standardization\n",
                "scaler_standard = StandardScaler()\n",
                "X_standardized = scaler_standard.fit_transform(X)\n",
                "    \n",
                "# Normalization\n",
                "scaler_minmax = MinMaxScaler()\n",
                "X_normalized = scaler_minmax.fit_transform(X)\n",
                "    "
            ]
        },
        {
            "cell_type": "markdown",
            "metadata": {},
            "source": [
                "\n",
                "## 3. Logistic Regression Modeling\n",
                "We will now build and evaluate three logistic regression models: one without feature scaling, one with standardized data, and one with normalized data.\n",
                "    "
            ]
        },
        {
            "cell_type": "code",
            "execution_count": 3,
            "metadata": {},
            "outputs": [
                {
                    "name": "stdout",
                    "output_type": "stream",
                    "text": [
                        "--- Model without Feature Scaling ---\n",
                        "Accuracy: 0.9627507163323782\n",
                        "\n",
                        "Classification Report:\n",
                        "               precision    recall  f1-score   support\n",
                        "\n",
                        "           0       0.97      0.99      0.98       966\n",
                        "           1       0.89      0.59      0.71        81\n",
                        "\n",
                        "    accuracy                           0.96      1047\n",
                        "   macro avg       0.93      0.79      0.85      1047\n",
                        "weighted avg       0.96      0.96      0.96      1047\n",
                        "\n"
                    ]
                }
            ],
            "source": [
                "\n",
                "# 1. Model without Feature Scaling\n",
                "X_train, X_test, y_train, y_test = train_test_split(X, y, test_size=0.3, random_state=42)\n",
                "model_no_scaling = LogisticRegression(random_state=42)\n",
                "model_no_scaling.fit(X_train, y_train)\n",
                "y_pred = model_no_scaling.predict(X_test)\n",
                "    \n",
                "print(\"--- Model without Feature Scaling ---\")\n",
                "print(\"Accuracy:\", accuracy_score(y_test, y_pred))\n",
                "print(\"\\nClassification Report:\\n\", classification_report(y_test, y_pred))\n",
                "    "
            ]
        },
        {
            "cell_type": "code",
            "execution_count": 4,
            "metadata": {},
            "outputs": [
                {
                    "name": "stdout",
                    "output_type": "stream",
                    "text": [
                        "--- Model with Standardized Data ---\n",
                        "Accuracy: 0.9627507163323782\n",
                        "\n",
                        "Classification Report:\n",
                        "               precision    recall  f1-score   support\n",
                        "\n",
                        "           0       0.97      0.99      0.98       966\n",
                        "           1       0.89      0.59      0.71        81\n",
                        "\n",
                        "    accuracy                           0.96      1047\n",
                        "   macro avg       0.93      0.79      0.85      1047\n",
                        "weighted avg       0.96      0.96      0.96      1047\n",
                        "\n"
                    ]
                }
            ],
            "source": [
                "\n",
                "# 2. Model with Standardized Data\n",
                "X_train_std, X_test_std, y_train_std, y_test_std = train_test_split(X_standardized, y, test_size=0.3, random_state=42)\n",
                "model_standardized = LogisticRegression(random_state=42)\n",
                "model_standardized.fit(X_train_std, y_train_std)\n",
                "y_pred_std = model_standardized.predict(X_test_std)\n",
                "    \n",
                "print(\"--- Model with Standardized Data ---\")\n",
                "print(\"Accuracy:\", accuracy_score(y_test_std, y_pred_std))\n",
                "print(\"\\nClassification Report:\\n\", classification_report(y_test_std, y_pred_std))\n",
                "    "
            ]
        },
        {
            "cell_type": "code",
            "execution_count": 5,
            "metadata": {},
            "outputs": [
                {
                    "name": "stdout",
                    "output_type": "stream",
                    "text": [
                        "--- Model with Normalized Data ---\n",
                        "Accuracy: 0.9627507163323782\n",
                        "\n",
                        "Classification Report:\n",
                        "               precision    recall  f1-score   support\n",
                        "\n",
                        "           0       0.97      0.99      0.98       966\n",
                        "           1       0.89      0.59      0.71        81\n",
                        "\n",
                        "    accuracy                           0.96      1047\n",
                        "   macro avg       0.93      0.79      0.85      1047\n",
                        "weighted avg       0.96      0.96      0.96      1047\n",
                        "\n"
                    ]
                }
            ],
            "source": [
                "\n",
                "# 3. Model with Normalized Data\n",
                "X_train_norm, X_test_norm, y_train_norm, y_test_norm = train_test_split(X_normalized, y, test_size=0.3, random_state=42)\n",
                "model_normalized = LogisticRegression(random_state=42)\n",
                "model_normalized.fit(X_train_norm, y_train_norm)\n",
                "y_pred_norm = model_normalized.predict(X_test_norm)\n",
                "    \n",
                "print(\"--- Model with Normalized Data ---\")\n",
                "print(\"Accuracy:\", accuracy_score(y_test_norm, y_pred_norm))\n",
                "print(\"\\nClassification Report:\\n\", classification_report(y_test_norm, y_pred_norm))\n",
                "    "
            ]
        },
        {
            "cell_type": "markdown",
            "metadata": {},
            "source": [
                "\n",
                "## 4. Conclusion\n",
                "This notebook demonstrated the use of logistic regression to predict Coronary Heart Disease. We observed for logistic regression, in this case, both scaling methods resulted in the similar model's accuracy with the model without scaling. \n",
                "    "
            ]
        }
    ],
    "metadata": {
        "kernelspec": {
            "display_name": "Python 3",
            "language": "python",
            "name": "python3"
        },
        "language_info": {
            "codemirror_mode": {
                "name": "ipython",
                "version": 3
            },
            "file_extension": ".py",
            "mimetype": "text/x-python",
            "name": "python",
            "nbconvert_exporter": "python",
            "pygments_lexer": "ipython3",
            "version": "3.12.1"
        }
    },
    "nbformat": 4,
    "nbformat_minor": 2
}
