{
    "cells": [
        {
            "cell_type": "markdown",
            "metadata": {},
            "source": [
                "\n",
                "# Support Vector Machine (SVM) Analysis for Predicting Coronary Heart Disease (CHD)\n",
                "    "
            ]
        },
        {
            "cell_type": "markdown",
            "metadata": {},
            "source": [
                "\n",
                "This notebook demonstrates how to use a Support Vector Machine (SVM) to predict the likelihood of a person having Coronary Heart Disease (CHD). We will also cover the important step of feature scaling, which is crucial for the performance of SVM models.\n",
                "    "
            ]
        },
        {
            "cell_type": "markdown",
            "metadata": {},
            "source": [
                "\n",
                " ## 1. Data Loading and Preparation\n",
                "First, we'll load the data, select our features and target variable, and prepare the data for modeling. The target variable is `CHDDXY1`, and we'll use `AGEY1X`, `ADSEX4`, `PRVEVY1`, and `total_comorbidities` as predictors. We will handle missing values and convert our target variable into a binary format (0 or 1).\n",
                "    "
            ]
        },
        {
            "cell_type": "code",
            "execution_count": 1,
            "metadata": {},
            "outputs": [
                {
                    "name": "stdout",
                    "output_type": "stream",
                    "text": [
                        "Cleaned DataFrame for SVM:\n",
                        "<class 'pandas.core.frame.DataFrame'>\n",
                        "Index: 3489 entries, 2 to 6740\n",
                        "Data columns (total 5 columns):\n",
                        " #   Column               Non-Null Count  Dtype  \n",
                        "---  ------               --------------  -----  \n",
                        " 0   AGEY1X               3489 non-null   float64\n",
                        " 1   ADSEX4               3489 non-null   float64\n",
                        " 2   PRVEVY1              3489 non-null   float64\n",
                        " 3   total_comorbidities  3489 non-null   int64  \n",
                        " 4   CHD_Diagnosis        3489 non-null   int64  \n",
                        "dtypes: float64(3), int64(2)\n",
                        "memory usage: 163.5 KB\n",
                        "\n",
                        "Target variable distribution:\n",
                        "CHD_Diagnosis\n",
                        "0    3243\n",
                        "1     246\n",
                        "Name: count, dtype: int64\n",
                        "\n",
                        "DataFrame Head:\n",
                        "    AGEY1X  ADSEX4  PRVEVY1  total_comorbidities  CHD_Diagnosis\n",
                        "2     62.0     1.0      1.0                    1              0\n",
                        "3     67.0     1.0      2.0                    1              0\n",
                        "5     79.0     2.0      2.0                    0              0\n",
                        "9     70.0     1.0      1.0                    0              0\n",
                        "11    71.0     2.0      1.0                    2              0\n"
                    ]
                }
            ],
            "source": [
                "\n",
                "import pandas as pd\n",
                "from sklearn.model_selection import train_test_split\n",
                "from sklearn.preprocessing import StandardScaler\n",
                "from sklearn.svm import SVC\n",
                "from sklearn.metrics import accuracy_score, classification_report, confusion_matrix\n",
                "    \n",
                "# Load the dataset\n",
                "df = pd.read_csv('CVD_data2.csv')\n",
                "    \n",
                "# Select relevant columns and drop rows with missing values\n",
                "svm_vars = ['CHDDXY1', 'AGEY1X', 'ADSEX4', 'PRVEVY1', 'total_comorbidities']\n",
                "df_svm = df[svm_vars].dropna()\n",
                "    \n",
                "# Binarize the target variable 'CHDDXY1' (assuming 1 is 'Yes' and 2 is 'No')\n",
                "df_svm['CHD_Diagnosis'] = df_svm['CHDDXY1'].apply(lambda x: 1 if x == 1 else 0)\n",
                "df_svm = df_svm.drop('CHDDXY1', axis=1)\n",
                "    \n",
                "print(\"Cleaned DataFrame for SVM:\")\n",
                "df_svm.info()\n",
                "print(\"\\nTarget variable distribution:\")\n",
                "print(df_svm['CHD_Diagnosis'].value_counts())\n",
                "print(\"\\nDataFrame Head:\")\n",
                "print(df_svm.head())\n",
                "    "
            ]
        },
        {
            "cell_type": "markdown",
            "metadata": {},
            "source": [
                "\n",
                "## 2. Feature Scaling\n",
                "SVMs are sensitive to the scale of the features. Therefore, it is important to scale our data before training the model. We will use Standardization for this purpose.\n",
                "    "
            ]
        },
        {
            "cell_type": "code",
            "execution_count": 2,
            "metadata": {},
            "outputs": [],
            "source": [
                "\n",
                "# Define predictors and target\n",
                "X = df_svm[['AGEY1X', 'ADSEX4', 'PRVEVY1', 'total_comorbidities']]\n",
                "y = df_svm['CHD_Diagnosis']\n",
                "    \n",
                "# Scale the features\n",
                "scaler = StandardScaler()\n",
                "X_scaled = scaler.fit_transform(X)\n",
                "    "
            ]
        },
        {
            "cell_type": "markdown",
            "metadata": {},
            "source": [
                "\n",
                "## 3. SVM Modeling\n",
                "Split the data into training and testing sets, train the SVM model, and evaluate its performance.\n",
                "    "
            ]
        },
        {
            "cell_type": "code",
            "execution_count": 3,
            "metadata": {},
            "outputs": [
                {
                    "name": "stdout",
                    "output_type": "stream",
                    "text": [
                        "--- SVM Model Performance ---\n",
                        "Accuracy: 0.9627507163323782\n",
                        "\n",
                        "Confusion Matrix:\n",
                        " [[960   6]\n",
                        " [ 33  48]]\n",
                        "\n",
                        "Classification Report:\n",
                        "               precision    recall  f1-score   support\n",
                        "\n",
                        "           0       0.97      0.99      0.98       966\n",
                        "           1       0.89      0.59      0.71        81\n",
                        "\n",
                        "    accuracy                           0.96      1047\n",
                        "   macro avg       0.93      0.79      0.85      1047\n",
                        "weighted avg       0.96      0.96      0.96      1047\n",
                        "\n"
                    ]
                }
            ],
            "source": [
                "\n",
                "# Split the scaled data into training and testing sets\n",
                "X_train, X_test, y_train, y_test = train_test_split(X_scaled, y, test_size=0.3, random_state=42)\n",
                "    \n",
                "# Create and train the SVM model\n",
                " # We will use a linear kernel as a starting point\n",
                "svm_model = SVC(kernel='linear', random_state=42)\n",
                "svm_model.fit(X_train, y_train)\n",
                "    \n",
                "# Make predictions\n",
                "y_pred = svm_model.predict(X_test)\n",
                "    \n",
                "# Evaluate the model\n",
                "print(\"--- SVM Model Performance ---\")\n",
                "print(\"Accuracy:\", accuracy_score(y_test, y_pred))\n",
                "print(\"\\nConfusion Matrix:\\n\", confusion_matrix(y_test, y_pred))\n",
                "print(\"\\nClassification Report:\\n\", classification_report(y_test, y_pred))\n",
                "    "
            ]
        },
        {
            "cell_type": "markdown",
            "metadata": {},
            "source": [
                "\n",
                "    ## 4. Conclusion\n",
                "    This notebook provided a step-by-step guide to using an SVM for a classification task on your dataset. We prepared the data, scaled the features, and trained an SVM model to predict Coronary Heart Disease.\n",
                "    \n",
                "    The performance of the model can be further tuned by experimenting with different kernels (e.g., 'rbf', 'poly') and by optimizing the hyperparameters of the SVM model (e.g., `C` and `gamma`).\n",
                "    "
            ]
        }
    ],
    "metadata": {
        "kernelspec": {
            "display_name": "Python 3",
            "language": "python",
            "name": "python3"
        },
        "language_info": {
            "codemirror_mode": {
                "name": "ipython",
                "version": 3
            },
            "file_extension": ".py",
            "mimetype": "text/x-python",
            "name": "python",
            "nbconvert_exporter": "python",
            "pygments_lexer": "ipython3",
            "version": "3.12.1"
        }
    },
    "nbformat": 4,
    "nbformat_minor": 2
}
