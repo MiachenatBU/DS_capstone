{
    "cells": [
        {
            "cell_type": "markdown",
            "metadata": {},
            "source": [
                "# Support Vector Machine (SVM) Analysis for Predicting Coronary Heart Disease (CHD)\n",
                "    "
            ]
        },
        {
            "cell_type": "markdown",
            "metadata": {},
            "source": [
                "\n",
                "This notebook demonstrates how to use a Support Vector Machine (SVM) to predict the likelihood of a person having Coronary Heart Disease (CHD). We will cover the important step of feature scaling and compare the model's performance on unscaled, standardized, and normalized data.\n",
                "    "
            ]
        },
        {
            "cell_type": "markdown",
            "metadata": {},
            "source": [
                "\n",
                "## 1. Data Loading and Preparation\n",
                "First, we'll load the data, select our features and target variable, and prepare the data for modeling. The target variable is `CHDDXY1`, and we'll use `AGEY1X`, `ADSEX4`, `PRVEVY1`, and `total_comorbidities` as predictors. We will handle missing values and convert our target variable into a binary format (0 or 1).\n",
                "    "
            ]
        },
        {
            "cell_type": "code",
            "execution_count": 1,
            "metadata": {},
            "outputs": [
                {
                    "name": "stdout",
                    "output_type": "stream",
                    "text": [
                        "Cleaned DataFrame for SVM:\n",
                        "<class 'pandas.core.frame.DataFrame'>\n",
                        "Index: 3489 entries, 2 to 6740\n",
                        "Data columns (total 5 columns):\n",
                        " #   Column               Non-Null Count  Dtype  \n",
                        "---  ------               --------------  -----  \n",
                        " 0   AGEY1X               3489 non-null   float64\n",
                        " 1   ADSEX4               3489 non-null   float64\n",
                        " 2   PRVEVY1              3489 non-null   float64\n",
                        " 3   total_comorbidities  3489 non-null   int64  \n",
                        " 4   CHD_Diagnosis        3489 non-null   int64  \n",
                        "dtypes: float64(3), int64(2)\n",
                        "memory usage: 163.5 KB\n",
                        "\n",
                        "Target variable distribution:\n",
                        "CHD_Diagnosis\n",
                        "0    3243\n",
                        "1     246\n",
                        "Name: count, dtype: int64\n"
                    ]
                }
            ],
            "source": [
                "\n",
                "import pandas as pd\n",
                "from sklearn.model_selection import train_test_split\n",
                "from sklearn.preprocessing import StandardScaler, MinMaxScaler\n",
                "from sklearn.svm import SVC\n",
                "from sklearn.metrics import accuracy_score, classification_report, confusion_matrix\n",
                "    \n",
                "# Load the dataset\n",
                "df = pd.read_csv('CVD_data2.csv')\n",
                "    \n",
                "# Select relevant columns and drop rows with missing values\n",
                "svm_vars = ['CHDDXY1', 'AGEY1X', 'ADSEX4', 'PRVEVY1', 'total_comorbidities']\n",
                "df_svm = df[svm_vars].dropna()\n",
                "    \n",
                "# Binarize the target variable 'CHDDXY1' (assuming 1 is 'Yes' and 2 is 'No')\n",
                "df_svm['CHD_Diagnosis'] = df_svm['CHDDXY1'].apply(lambda x: 1 if x == 1 else 0)\n",
                "df_svm = df_svm.drop('CHDDXY1', axis=1)\n",
                "    \n",
                "# Define predictors and target\n",
                "X = df_svm[['AGEY1X', 'ADSEX4', 'PRVEVY1', 'total_comorbidities']]\n",
                "y = df_svm['CHD_Diagnosis']\n",
                "    \n",
                "print(\"Cleaned DataFrame for SVM:\")\n",
                "df_svm.info()\n",
                "print(\"\\nTarget variable distribution:\")\n",
                "print(df_svm['CHD_Diagnosis'].value_counts())\n",
                "    "
            ]
        },
        {
            "cell_type": "markdown",
            "metadata": {},
            "source": [
                "\n",
                "## 2. Model with Unscaled Data\n",
                "As a baseline, we'll first train an SVM on the original, unscaled data.\n",
                "    "
            ]
        },
        {
            "cell_type": "code",
            "execution_count": 2,
            "metadata": {},
            "outputs": [
                {
                    "name": "stdout",
                    "output_type": "stream",
                    "text": [
                        "--- SVM Model Performance (Unscaled Data) ---\n",
                        "Accuracy: 0.9627507163323782\n",
                        "\n",
                        "Classification Report:\n",
                        "               precision    recall  f1-score   support\n",
                        "\n",
                        "           0       0.97      0.99      0.98       966\n",
                        "           1       0.89      0.59      0.71        81\n",
                        "\n",
                        "    accuracy                           0.96      1047\n",
                        "   macro avg       0.93      0.79      0.85      1047\n",
                        "weighted avg       0.96      0.96      0.96      1047\n",
                        "\n"
                    ]
                }
            ],
            "source": [
                "\n",
                "# Split the unscaled data\n",
                "X_train_unscaled, X_test_unscaled, y_train, y_test = train_test_split(X, y, test_size=0.3, random_state=42)\n",
                "    \n",
                "# Create and train the SVM model\n",
                "svm_model_unscaled = SVC(kernel='linear', random_state=42)\n",
                "svm_model_unscaled.fit(X_train_unscaled, y_train)\n",
                "    \n",
                "# Make predictions\n",
                "y_pred_unscaled = svm_model_unscaled.predict(X_test_unscaled)\n",
                "    \n",
                "# Evaluate the model\n",
                "print(\"--- SVM Model Performance (Unscaled Data) ---\")\n",
                "print(\"Accuracy:\", accuracy_score(y_test, y_pred_unscaled))\n",
                "print(\"\\nClassification Report:\\n\", classification_report(y_test, y_pred_unscaled))\n",
                "    "
            ]
        },
        {
            "cell_type": "markdown",
            "metadata": {},
            "source": [
                "\n",
                "## 3. Model with Standardized Data\n",
                "We will use Standardization (scaling to zero mean and unit variance) and see how it impacts performance.\n",
                "    "
            ]
        },
        {
            "cell_type": "code",
            "execution_count": 3,
            "metadata": {},
            "outputs": [
                {
                    "name": "stdout",
                    "output_type": "stream",
                    "text": [
                        "--- SVM Model Performance (Standardized Data) ---\n",
                        "Accuracy: 0.9627507163323782\n",
                        "\n",
                        "Classification Report:\n",
                        "               precision    recall  f1-score   support\n",
                        "\n",
                        "           0       0.97      0.99      0.98       966\n",
                        "           1       0.89      0.59      0.71        81\n",
                        "\n",
                        "    accuracy                           0.96      1047\n",
                        "   macro avg       0.93      0.79      0.85      1047\n",
                        "weighted avg       0.96      0.96      0.96      1047\n",
                        "\n"
                    ]
                }
            ],
            "source": [
                "\n",
                "# Scale the features using StandardScaler\n",
                "scaler_standard = StandardScaler()\n",
                "X_standardized = scaler_standard.fit_transform(X)\n",
                "    \n",
                "# Split the standardized data\n",
                "X_train_std, X_test_std, y_train_std, y_test_std = train_test_split(X_standardized, y, test_size=0.3, random_state=42)\n",
                "    \n",
                "# Create and train the SVM model on standardized data\n",
                "svm_model_standardized = SVC(kernel='linear', random_state=42)\n",
                "svm_model_standardized.fit(X_train_std, y_train_std)\n",
                "    \n",
                "# Make predictions\n",
                "y_pred_std = svm_model_standardized.predict(X_test_std)\n",
                "    \n",
                "# Evaluate the model\n",
                "print(\"--- SVM Model Performance (Standardized Data) ---\")\n",
                "print(\"Accuracy:\", accuracy_score(y_test_std, y_pred_std))\n",
                "print(\"\\nClassification Report:\\n\", classification_report(y_test_std, y_pred_std))\n",
                "    "
            ]
        },
        {
            "cell_type": "markdown",
            "metadata": {},
            "source": [
                "\n",
                "## 4. Model with Normalized Data\n",
                "Finally, we'll apply Normalization (scaling to a [0, 1] range) and compare its effect.\n",
                "    "
            ]
        },
        {
            "cell_type": "code",
            "execution_count": 4,
            "metadata": {},
            "outputs": [
                {
                    "name": "stdout",
                    "output_type": "stream",
                    "text": [
                        "--- SVM Model Performance (Normalized Data) ---\n",
                        "Accuracy: 0.9627507163323782\n",
                        "\n",
                        "Classification Report:\n",
                        "               precision    recall  f1-score   support\n",
                        "\n",
                        "           0       0.97      0.99      0.98       966\n",
                        "           1       0.89      0.59      0.71        81\n",
                        "\n",
                        "    accuracy                           0.96      1047\n",
                        "   macro avg       0.93      0.79      0.85      1047\n",
                        "weighted avg       0.96      0.96      0.96      1047\n",
                        "\n"
                    ]
                }
            ],
            "source": [
                "\n",
                "# Scale the features using MinMaxScaler\n",
                "scaler_minmax = MinMaxScaler()\n",
                "X_normalized = scaler_minmax.fit_transform(X)\n",
                "    \n",
                "# Split the normalized data\n",
                "X_train_norm, X_test_norm, y_train_norm, y_test_norm = train_test_split(X_normalized, y, test_size=0.3, random_state=42)\n",
                "    \n",
                "# Create and train the SVM model on normalized data\n",
                "svm_model_normalized = SVC(kernel='linear', random_state=42)\n",
                "svm_model_normalized.fit(X_train_norm, y_train_norm)\n",
                "    \n",
                "# Make predictions\n",
                "y_pred_norm = svm_model_normalized.predict(X_test_norm)\n",
                "    \n",
                "# Evaluate the model\n",
                "print(\"--- SVM Model Performance (Normalized Data) ---\")\n",
                "print(\"Accuracy:\", accuracy_score(y_test_norm, y_pred_norm))\n",
                "print(\"\\nClassification Report:\\n\", classification_report(y_test_norm, y_pred_norm))\n",
                "    "
            ]
        },
        {
            "cell_type": "markdown",
            "metadata": {},
            "source": [
                "\n",
                "## 5. Conclusion\n",
                "This notebook provided a step-by-step guide to using an SVM for a classification task and demonstrated the importance of feature scaling. We compared the performance of the SVM on unscaled data against data scaled with both standardization and normalization.\n",
                "    \n",
                "In this specific case, both scaling methods resulted in a similar model's accuracy compared to the unscaled baseline. \n",
                "    "
            ]
        }
    ],
    "metadata": {
        "kernelspec": {
            "display_name": "Python 3",
            "language": "python",
            "name": "python3"
        },
        "language_info": {
            "codemirror_mode": {
                "name": "ipython",
                "version": 3
            },
            "file_extension": ".py",
            "mimetype": "text/x-python",
            "name": "python",
            "nbconvert_exporter": "python",
            "pygments_lexer": "ipython3",
            "version": "3.12.1"
        }
    },
    "nbformat": 4,
    "nbformat_minor": 2
}
